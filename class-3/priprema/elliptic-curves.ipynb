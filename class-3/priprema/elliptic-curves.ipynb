{
 "cells": [
  {
   "cell_type": "code",
   "execution_count": 4,
   "metadata": {},
   "outputs": [
    {
     "name": "stdout",
     "output_type": "stream",
     "text": [
      "Defaulting to user installation because normal site-packages is not writeable\n",
      "Collecting ecdsa\n",
      "  Downloading ecdsa-0.19.0-py2.py3-none-any.whl.metadata (29 kB)\n",
      "Requirement already satisfied: six>=1.9.0 in /Applications/Xcode.app/Contents/Developer/Library/Frameworks/Python3.framework/Versions/3.9/lib/python3.9/site-packages (from ecdsa) (1.15.0)\n",
      "Downloading ecdsa-0.19.0-py2.py3-none-any.whl (149 kB)\n",
      "Installing collected packages: ecdsa\n",
      "Successfully installed ecdsa-0.19.0\n",
      "\n",
      "\u001b[1m[\u001b[0m\u001b[34;49mnotice\u001b[0m\u001b[1;39;49m]\u001b[0m\u001b[39;49m A new release of pip is available: \u001b[0m\u001b[31;49m24.2\u001b[0m\u001b[39;49m -> \u001b[0m\u001b[32;49m24.3.1\u001b[0m\n",
      "\u001b[1m[\u001b[0m\u001b[34;49mnotice\u001b[0m\u001b[1;39;49m]\u001b[0m\u001b[39;49m To update, run: \u001b[0m\u001b[32;49m/Applications/Xcode.app/Contents/Developer/usr/bin/python3 -m pip install --upgrade pip\u001b[0m\n",
      "Note: you may need to restart the kernel to use updated packages.\n"
     ]
    }
   ],
   "source": [
    "pip install ecdsa"
   ]
  },
  {
   "cell_type": "code",
   "execution_count": 6,
   "metadata": {},
   "outputs": [
    {
     "name": "stdout",
     "output_type": "stream",
     "text": [
      "Public Key 1: (41079968959780955004895214328026062223053942313638939587128861370700247948270, 86671036290170292238059580456295519236632101628921268685084662522553451260327)\n",
      "Public Key 2: (106239249059914909637524106127961586088196614826091456607508992011322455353346, 62539426245330364790917561661974453242731619264323306385905891293018290391051)\n",
      "New Point after addition: (42645856113529838670600604151320256670644597966666065141406556863388950140128, 94421549296770469212102979160563090260090978280304288829050190803030877039009)\n"
     ]
    }
   ],
   "source": [
    "from ecdsa import SECP256k1\n",
    "\n",
    "# Inicijalizacija SECP256k1 krive i osnovne tačke\n",
    "curve = SECP256k1.curve\n",
    "generator = SECP256k1.generator\n",
    "\n",
    "# Definisanje privatnih ključeva\n",
    "priv_key_1 = 987654321\n",
    "priv_key_2 = 980934321\n",
    "\n",
    "# Generisanje javnih ključeva množenjem generatora sa privatnim ključem\n",
    "pub_key_1 = priv_key_1 * generator\n",
    "pub_key_2 = priv_key_2 * generator\n",
    "\n",
    "# Sabiranje tačaka (javnih ključeva) na eliptičkoj krivi\n",
    "new_point = pub_key_1 + pub_key_2\n",
    "\n",
    "# Prikaz rezultata u formatu (x, y)\n",
    "print(\"Public Key 1:\", (pub_key_1.x(), pub_key_1.y()))\n",
    "print(\"Public Key 2:\", (pub_key_2.x(), pub_key_2.y()))\n",
    "print(\"New Point after addition:\", (new_point.x(), new_point.y()))"
   ]
  }
 ],
 "metadata": {
  "kernelspec": {
   "display_name": "Python 3",
   "language": "python",
   "name": "python3"
  },
  "language_info": {
   "codemirror_mode": {
    "name": "ipython",
    "version": 3
   },
   "file_extension": ".py",
   "mimetype": "text/x-python",
   "name": "python",
   "nbconvert_exporter": "python",
   "pygments_lexer": "ipython3",
   "version": "3.9.6"
  }
 },
 "nbformat": 4,
 "nbformat_minor": 2
}

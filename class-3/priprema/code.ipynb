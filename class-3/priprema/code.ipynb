{
 "cells": [
  {
   "cell_type": "markdown",
   "metadata": {},
   "source": [
    "### Instalacija biblioteka"
   ]
  },
  {
   "cell_type": "code",
   "execution_count": null,
   "metadata": {},
   "outputs": [],
   "source": [
    "%pip install py_ecc\n",
    "%pip install ecdsa"
   ]
  },
  {
   "cell_type": "markdown",
   "metadata": {},
   "source": [
    "### Sabiranje tačaka na eliptičkoj krivoj"
   ]
  },
  {
   "cell_type": "code",
   "execution_count": null,
   "metadata": {},
   "outputs": [],
   "source": [
    "from py_ecc import bn128"
   ]
  },
  {
   "cell_type": "code",
   "execution_count": 3,
   "metadata": {},
   "outputs": [
    {
     "name": "stdout",
     "output_type": "stream",
     "text": [
      "Public Key 1: (9121282642809701931333593728297233225556711250127745709186816755779879923737, 8783642022119951289582979607207867126556038468480503109520224385365741455513)\n",
      "Public Key 2: (9762719899689846518288039964454931444106783023933610630836848832700633833209, 13418320294483086350796880924221804082812823986598771920845388056528867483634)\n",
      "New Point after addition: (13941630850939668346535525444231863671048532303622306743285719356065443150089, 7889020351330448120967713518583393111106797395434742462527316530535004742599)\n"
     ]
    }
   ],
   "source": [
    "# Izračunavanje tačaka na eliptičkoj krivoj\n",
    "point1 = bn128.multiply(bn128.G1, 123456789)\n",
    "point2 = bn128.multiply(bn128.G1, 123456789)\n",
    "\n",
    "# Sabiranje tačaka\n",
    "new_point = bn128.add(point1, point2)\n",
    "\n",
    "# Prikaz rezultata\n",
    "print(\"Point 1:\", point1)\n",
    "print(\"Point 2:\", point2)\n",
    "print(\"New Point after addition:\", new_point)\n"
   ]
  },
  {
   "cell_type": "markdown",
   "metadata": {},
   "source": [
    "### Pairing"
   ]
  },
  {
   "cell_type": "code",
   "execution_count": 4,
   "metadata": {},
   "outputs": [
    {
     "name": "stdout",
     "output_type": "stream",
     "text": [
      "Public Key 1 (G1): (9121282642809701931333593728297233225556711250127745709186816755779879923737, 8783642022119951289582979607207867126556038468480503109520224385365741455513)\n",
      "Public Key 2 (G2): ((6290145982231384738074966365038828944845698038674138502655610483714605422009, 801151260611335460165145578655139439644723815179970173493264417463580420976), (7104388331783540487822203877085417454795771769478266307570657875726917971553, 20010759952662045428129942237803352455477642709483925908689586853899117112468))\n",
      "Pairing e(Public Key 1, Public Key 2): (13155422563560481797803349738873078602077166065460017251298581562538598421049, 19824154330296926943721925684261979459094550948660997753632198356004541076367, 4654204599146452523798251484574286148456113467929161996382402597754669206287, 12596372193435168378859608022090420592376183078071091649065932672326432102872, 16118454153719557091630909783301404957504251829856064066665814395845862171468, 2918916409670443079165466258637685967448330983100995608222532295510474453048, 5846425880552258505053857025432317994816749838991999966835380666694778449862, 14146951504944382625390572154006869408680062428135720393174551136663978722895, 19054684063191214181398509499445126645922057014025880440646515844566076925645, 9024662984148197298405121515064808662499938581171473484280473024305054952270, 13768717960237753282262436384064148451196931737362217503095690738239334306583, 11293731542769705261613545852310205396197594230660620999040842949832725196717)\n"
     ]
    }
   ],
   "source": [
    "# Izračunavanje javnih ključeva (tačke na eliptičkoj krivoj)\n",
    "pub_key_g1 = bn128.multiply(bn128.G1, priv_key_1)  # Javna tačka iz G1\n",
    "pub_key_g2 = bn128.multiply(bn128.G2, priv_key_2)  # Javna tačka iz G2\n",
    "\n",
    "# Izračunavanje pairing-a\n",
    "pairing_result = bn128.pairing(pub_key_g2, pub_key_g1)  # Obrni redosled\n",
    "\n",
    "# Prikaz rezultata\n",
    "print(\"Public Key 1 (G1):\", pub_key_g1)\n",
    "print(\"Public Key 2 (G2):\", pub_key_g2)\n",
    "print(\"Pairing e(Public Key 1, Public Key 2):\", pairing_result)\n"
   ]
  },
  {
   "cell_type": "markdown",
   "metadata": {},
   "source": [
    "### Potpisivanje poruka pomoću ECDSA"
   ]
  },
  {
   "cell_type": "code",
   "execution_count": null,
   "metadata": {},
   "outputs": [],
   "source": [
    "from ecdsa import SigningKey, SECP256k1"
   ]
  },
  {
   "cell_type": "code",
   "execution_count": 5,
   "metadata": {},
   "outputs": [
    {
     "name": "stdout",
     "output_type": "stream",
     "text": [
      "Signature: a22ad56028ec7ba1b231a36fd79e71002542ed2576f1e5ac1297f51e11fe2bd088beb61e605265cddd94c8021376153b7c115068bf7aaa1542074a5102bc6acf\n",
      "Signature Valid: True\n"
     ]
    }
   ],
   "source": [
    "priv_key = SigningKey.generate(curve=SECP256k1)\n",
    "\n",
    "pub_key = priv_key.get_verifying_key()\n",
    "\n",
    "message = b\"Verify my signature!\"\n",
    "\n",
    "# Potpisivanje\n",
    "signature = priv_key.sign(message)\n",
    "\n",
    "# Verifikacija\n",
    "is_valid = pub_key.verify(signature, message)\n",
    "print(f\"Signature: {signature.hex()}\")\n",
    "print(f\"Signature Valid: {is_valid}\")"
   ]
  },
  {
   "cell_type": "markdown",
   "metadata": {},
   "source": [
    "### BLS potpis"
   ]
  },
  {
   "cell_type": "code",
   "execution_count": null,
   "metadata": {},
   "outputs": [],
   "source": [
    "from hashlib import sha256\n",
    "from py_ecc.bls import G2ProofOfPossession as bls"
   ]
  },
  {
   "cell_type": "code",
   "execution_count": 6,
   "metadata": {},
   "outputs": [
    {
     "name": "stdout",
     "output_type": "stream",
     "text": [
      "Public Key: b674edf842a1cbf25b206ee258db7719ea317d003b01b2197833e3f95d20601cb377908af8a587e83b9ada42c05cb33c\n",
      "BLS Signature: 9318a676e9c1be363d9ee1890f4a2c734b4f57dc910fa9424aaa973f43efc33b580b2979c7e5b64b0d0ebf540377031f0528e85119a45feff05882d8478b057c6e08891ad714eb8a50a6d3f2ef3efd2a138acab2b1ba890362e22ce941be1031\n",
      "Signature Valid: True\n"
     ]
    }
   ],
   "source": [
    "priv_key = bls.KeyGen(sha256(b'private_seed').digest())\n",
    "pub_key = bls.SkToPk(priv_key)\n",
    "print(f\"Public Key: {pub_key.hex()}\")\n",
    "\n",
    "message = b\"Message for BLS signing\"\n",
    "signature = bls.Sign(priv_key, message)\n",
    "print(f\"BLS Signature: {signature.hex()}\")\n",
    "\n",
    "# Verifikacija potpisa\n",
    "is_valid = bls.Verify(pub_key, message, signature)\n",
    "print(f\"Signature Valid: {is_valid}\")"
   ]
  },
  {
   "cell_type": "markdown",
   "metadata": {},
   "source": [
    "### Agregirani BLS potpis"
   ]
  },
  {
   "cell_type": "code",
   "execution_count": 7,
   "metadata": {},
   "outputs": [
    {
     "name": "stdout",
     "output_type": "stream",
     "text": [
      "Public Key 1: 8530c1bdc4cd6b1408be0933c4a41ac3513350eef36850b804708e1f338932ce01b655a163344a4500b281c8750c461f\n",
      "Public Key 2: 85ee0a7d7e181a6894d4c3c6c4581c8d4841ce1dc4bfb3b4bec3f84cc998e4e64e6d2110fc32d35b7f9726221150d9b5\n",
      "BLS Signature 1: b693b965e9b5f444fa99ee9f686d08ea82f8f1cf0a083db024870f883760e6cabf432f9ea50ae1049a2f93d00ea729860d5cd8713b6ac92a68ea63e650988887a36a5d5f730568133e21319db9400e7b2fc89afd83b1f02388a65fddc803154f\n",
      "BLS Signature 2: 8948af389737ffdd6e4045569b99660e7fa3b65b27b131947eccdca2086d9aac3cef71d1735ee24a0764bab0fff51fc0197edcf9777708746bfbbeb30e4c2365599fb28e793693c1ad5e624499e320ec3b8cb2528db3235c4766f6c06b7a4b31\n",
      "Aggregated Public key: 85ee0a7d7e181a6894d4c3c6c4581c8d4841ce1dc4bfb3b4bec3f84cc998e4e64e6d2110fc32d35b7f9726221150d9b5\n",
      "BLS Aggregated Signature: 951971dc68d94b8a65dcbd0e2187d47c81ad3f97faf44d6d42e22742e0a0a631833db72b621bd8b331b9a9ea1afabb2a0e7d3a39e522eecd7c3ae3af5b7fe16fd0c78945f5716347ed26207a2fbb1848db24ab4452696a3f7c558b78016f0db7\n",
      "Aggregated Signature Valid: True\n"
     ]
    }
   ],
   "source": [
    "priv_key1, priv_key2 = 12345, 67890\n",
    "pub_key1, pub_key2 = bls.SkToPk(priv_key1), bls.SkToPk(priv_key2)\n",
    "print(f\"Public Key 1: {pub_key1.hex()}\")\n",
    "print(f\"Public Key 2: {pub_key2.hex()}\")\n",
    "\n",
    "message = b\"Aggregated signature message\"\n",
    "signature1 = bls.Sign(priv_key1, message)\n",
    "signature2 = bls.Sign(priv_key2, message)\n",
    "print(f\"BLS Signature 1: {signature1.hex()}\")\n",
    "print(f\"BLS Signature 2: {signature2.hex()}\")\n",
    "\n",
    "# Agregirani javni ključeva\n",
    "aggregated_pub_keys = [pub_key1, pub_key2]\n",
    "print(f\"Aggregated Public key: {pub_key2.hex()}\")\n",
    "\n",
    "aggregated_message = [message, message]\n",
    "\n",
    "# Agregirani potpis\n",
    "aggregated_signature = bls.Aggregate([signature1, signature2])\n",
    "print(f\"BLS Aggregated Signature: {aggregated_signature.hex()}\")\n",
    "\n",
    "# Verifikacija agregiranog potpisa\n",
    "is_valid = bls.AggregateVerify(aggregated_pub_keys, aggregated_message, aggregated_signature)\n",
    "print(f\"Aggregated Signature Valid: {is_valid}\")"
   ]
  }
 ],
 "metadata": {
  "kernelspec": {
   "display_name": "Python 3",
   "language": "python",
   "name": "python3"
  },
  "language_info": {
   "codemirror_mode": {
    "name": "ipython",
    "version": 3
   },
   "file_extension": ".py",
   "mimetype": "text/x-python",
   "name": "python",
   "nbconvert_exporter": "python",
   "pygments_lexer": "ipython3",
   "version": "3.9.6"
  }
 },
 "nbformat": 4,
 "nbformat_minor": 2
}
